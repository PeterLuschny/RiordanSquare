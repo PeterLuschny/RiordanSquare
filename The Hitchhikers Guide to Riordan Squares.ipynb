{
 "cells": [
  {
   "cell_type": "markdown",
   "metadata": {},
   "source": [
    "    Author & Copyright : Peter Luschny\n",
    "    Created: 2018-12-12, License: MIT"
   ]
  },
  {
   "cell_type": "markdown",
   "metadata": {},
   "source": [
    "\n",
    "<h1 style=\"background: -webkit-gradient(linear,left top,left bottom,from(#fff),to(#efefef));\\\n",
    "    border-radius: 10px;\\\n",
    "    box-shadow: 0 0 4px;\\\n",
    "    width: 100%;\\\n",
    "    border: 1px solid grey;\\\n",
    "    padding: 1em;\\\n",
    "    box-sizing: border-box;\\\n",
    "    margin-top: 5px;\\\n",
    "    margin-bottom: 5px;\\\n",
    "    text-align: center;\\\n",
    "    background: brown;\\\n",
    "    color: white;\\\n",
    "    letter-spacing: 3px;\\\n",
    "    line-height: 48px;\\\n",
    "    font-size: 32px;\\\n",
    "    font-weight: bold;\">The Hitchhiker's Guide to<br>Riordan Squares</h1>"
   ]
  },
  {
   "cell_type": "markdown",
   "metadata": {},
   "source": [
    "<p style=\"text-align:center;\">Background information can be found in <br>[The Hitchhiker's Guide to Riordan Squares](http://luschny.de/math/seq/RiordanSquare.html).<br>\n",
    "See also [A321620](https://oeis.org/A321620) and [A321960](https://oeis.org/A321960).</p>"
   ]
  },
  {
   "cell_type": "markdown",
   "metadata": {},
   "source": [
    "## Testset"
   ]
  },
  {
   "cell_type": "code",
   "execution_count": null,
   "metadata": {},
   "outputs": [],
   "source": [
    "Catalan          = SR((1 - sqrt(1 - 4*x))/(2*x))\n",
    "Riordan          = SR(1 + 2*x/(1 + x + sqrt(1 - 2*x - 3*x^2)))\n",
    "Motzkin          = SR((1 - x - sqrt(1 - 2*x - 3*x^2))/(2*x^2))\n",
    "Fine             = SR(1 + (1 - sqrt(1 - 4*x))/(3 - sqrt(1 - 4*x)))\n",
    "LargeSchroeder   = SR((1 - x - sqrt(1 - 6*x + x^2))/(2*x))\n",
    "LittleSchroeder  = SR((1 + x - sqrt(1 - 6*x + x^2))/(4*x))\n",
    "Lucas            = SR(1 + x*(1 + 2*x)/(1 - x - x^2))\n",
    "OrbitalNumbers   = SR((1 + x/(1 - 4*x^2))/sqrt(1 - 4*x^2))\n",
    "TernaryTrees     = SR(sin(arcsin(3*sqrt(x*3/4))/3)/sqrt(x*3/4))\n",
    "CentralTrinomial = SR(1/sqrt(1 - 2*x - 3*x^2))\n",
    "UnoDueTres       = SR(1/(1 - x)^2)\n",
    "PowersOf2        = SR(1/(1 - 2*x))\n",
    "All1Seq          = SR(1/(1 - x))\n",
    "Fibonacci        = SR(1/(1 - x - x^2))\n",
    "Tribonacci       = SR(1/(1 - x - x^2 - x^3))\n",
    "Jacobsthal       = SR((2*x^2-1)/((x + 1)*(2*x - 1)))"
   ]
  },
  {
   "cell_type": "code",
   "execution_count": null,
   "metadata": {},
   "outputs": [],
   "source": [
    "# How to use:\n",
    "def test():\n",
    "    print(\"Catalan\")\n",
    "    print(Catalan)\n",
    "    print(Catalan.series(x, 10))\n",
    "    print(Catalan.series(x).list())\n",
    "    print(\"\")\n",
    "test()    "
   ]
  },
  {
   "cell_type": "code",
   "execution_count": null,
   "metadata": {},
   "outputs": [],
   "source": [
    "from collections import namedtuple\n",
    "OGF = namedtuple(\"OGF\", \"name ogf\")\n",
    "\n",
    "COL = [ # COL stands for 'colletion'.\n",
    "    OGF(name = \"Catalan         \", ogf = Catalan), \n",
    "    OGF(name = \"Riordan         \", ogf = Riordan),  \n",
    "    OGF(name = \"Motzkin         \", ogf = Motzkin), \n",
    "    OGF(name = \"Fine            \", ogf = Fine),\n",
    "    OGF(name = \"LargeSchroeder  \", ogf = LargeSchroeder), \n",
    "    OGF(name = \"LittleSchroeder \", ogf = LittleSchroeder),\n",
    "    OGF(name = \"Lucas           \", ogf = Lucas), \n",
    "    OGF(name = \"OrbitalNumbers  \", ogf = OrbitalNumbers), \n",
    "    OGF(name = \"TernaryTrees    \", ogf = TernaryTrees), \n",
    "    OGF(name = \"CentralTrinomial\", ogf = CentralTrinomial),\n",
    "    OGF(name = \"UnoDueTres      \", ogf = UnoDueTres), \n",
    "    OGF(name = \"PowersOf2       \", ogf = PowersOf2), \n",
    "    OGF(name = \"All1Seq         \", ogf = All1Seq), \n",
    "    OGF(name = \"Fibonacci       \", ogf = Fibonacci), \n",
    "    OGF(name = \"Tribonacci      \", ogf = Tribonacci), \n",
    "    OGF(name = \"Jacobsthal      \", ogf = Jacobsthal)\n",
    "]"
   ]
  },
  {
   "cell_type": "code",
   "execution_count": null,
   "metadata": {
    "scrolled": false
   },
   "outputs": [],
   "source": [
    "# How to use:\n",
    "def test():\n",
    "    g = COL[14]\n",
    "    print(g.name)\n",
    "    print(g.ogf)\n",
    "    print(g.ogf.series(x, 10))\n",
    "    print(g.ogf.series(x).list())\n",
    "test()"
   ]
  },
  {
   "cell_type": "markdown",
   "metadata": {},
   "source": [
    "### Taylor expansion"
   ]
  },
  {
   "cell_type": "code",
   "execution_count": null,
   "metadata": {},
   "outputs": [],
   "source": [
    "def Expand(f, n): # expression to power series (in x over SR)\n",
    "    x = var('x')\n",
    "    g = SR(f)  # make sure that we get an symbolic expression\n",
    "    R.<x> = PowerSeriesRing(SR, default_prec=n)\n",
    "    if g.variables() == (): return R(g)\n",
    "    T = taylor(g, g.variables()[0], 0, n).list()\n",
    "    return R(T) \n",
    "\n",
    "def List(f, n): # expression to power series (in x over SR)\n",
    "    # trap: list() need not have length equal to prec()!\n",
    "    t = Expand(f, n).list()\n",
    "    return (t + [0]*(n - len(t)))[0:n]"
   ]
  },
  {
   "cell_type": "markdown",
   "metadata": {},
   "source": [
    "### Helper Functions "
   ]
  },
  {
   "cell_type": "code",
   "execution_count": null,
   "metadata": {},
   "outputs": [],
   "source": [
    "def toList(R, dim):  \n",
    "    if isinstance(R, Integer): R = SR(R)\n",
    "    if isinstance(R, type(SR())):\n",
    "        if dim == 0: raise ValueError('dim must not be zero.') \n",
    "        return List(R, dim)\n",
    "    if callable(R):\n",
    "        if dim == 0: raise ValueError('dim must not be zero.') \n",
    "        return [R(n) for n in (0..dim-1)]\n",
    "    return R\n",
    "\n",
    "def MatrixToList(M, len):\n",
    "    L = []\n",
    "    for n in (0..M.nrows()-1):\n",
    "        for k in (0..n):\n",
    "            L.append(M[n, k])\n",
    "    return L[:len]\n",
    "\n",
    "def Column0(M):\n",
    "    L = []\n",
    "    for n in (0..M.nrows()-1):\n",
    "        L.append(M[n, 0])\n",
    "    return L"
   ]
  },
  {
   "cell_type": "markdown",
   "metadata": {},
   "source": [
    "### Some transforms \n",
    "(used for tests and explorations)"
   ]
  },
  {
   "cell_type": "code",
   "execution_count": null,
   "metadata": {},
   "outputs": [],
   "source": [
    "def InverseInvert(f, n):\n",
    "    x = var('x')\n",
    "    return List(SR(f/(1 + x*f)), n)\n",
    "    \n",
    "def Invert(f, n):\n",
    "    x = var('x')\n",
    "    return List(SR(1/(1 - x*f)), n)\n",
    "                  \n",
    "def Reciproc(f, n):\n",
    "    x = var('x')\n",
    "    return List(SR(1/f), n)\n",
    "\n",
    "def Reversion(f, n):\n",
    "    x = var('x')\n",
    "    t = Expand(SR(f), n).reverse().list()\n",
    "    return (t + [0]*(n - len(t)))[0:n]\n",
    "\n",
    "def ShiftReversion(f, n):\n",
    "    x = var('x')\n",
    "    t = Expand(SR(f)*x, n+1).reverse().shift(-1).list()\n",
    "    return (t + [0]*(n + 1- len(t)))[0:n]"
   ]
  },
  {
   "cell_type": "markdown",
   "metadata": {},
   "source": [
    "### Tests"
   ]
  },
  {
   "cell_type": "code",
   "execution_count": null,
   "metadata": {},
   "outputs": [],
   "source": [
    "# A049347\n",
    "def test():\n",
    "    print( ShiftReversion(Motzkin, 24) )\n",
    "    print( List(1/(1+x+x^2), 24) )\n",
    "test()    "
   ]
  },
  {
   "cell_type": "code",
   "execution_count": null,
   "metadata": {},
   "outputs": [],
   "source": [
    "def test():\n",
    "    ord = 11\n",
    "    print( \"Catalan\", Catalan)\n",
    "    print( List(Catalan, ord))\n",
    "    print( Invert(Catalan, ord))         \n",
    "    print( InverseInvert(Catalan, ord))          \n",
    "    print( Reciproc(Catalan, ord))                \n",
    "    #print(Reversion(Catalan, ord))                      \n",
    "    print( ShiftReversion(Catalan, ord)) \n",
    "\n",
    "test()"
   ]
  },
  {
   "cell_type": "code",
   "execution_count": null,
   "metadata": {},
   "outputs": [],
   "source": [
    "def test(g):\n",
    "    ord = 11\n",
    "    print(g.name, g.ogf)\n",
    "    print(\"List:           \", List(g.ogf, ord))\n",
    "    print(\"Invert:         \", Invert(g.ogf, ord))         \n",
    "    print(\"InverseInvert:  \", InverseInvert(g.ogf, ord))          \n",
    "    print(\"Reciproc:       \", Reciproc(g.ogf, ord))   \n",
    "    if List(g.ogf, 4)[0] == 0: \n",
    "        print(\"Reversion:      \", Reversion(g.ogf, ord))                      \n",
    "    else:\n",
    "        print(\"ShiftReversion: \", ShiftReversion(g.ogf, ord))                            \n",
    "\n",
    "test(COL[13])"
   ]
  },
  {
   "cell_type": "code",
   "execution_count": null,
   "metadata": {
    "scrolled": false
   },
   "outputs": [],
   "source": [
    "for g in COL:\n",
    "    test(g)\n",
    "    print(\"---\")"
   ]
  },
  {
   "cell_type": "markdown",
   "metadata": {},
   "source": [
    "### Library Functions"
   ]
  },
  {
   "cell_type": "code",
   "execution_count": null,
   "metadata": {},
   "outputs": [],
   "source": [
    "def ExponentialWeights(M):\n",
    "    N = M.nrows(); u = 1\n",
    "    for k in (1..N-1):\n",
    "        u *= k\n",
    "        for m in (0..k):\n",
    "            j = u if m == 0 else j/m\n",
    "            M[k, m] *= j\n",
    "    return M\n",
    "\n",
    "def RiordanSquare(S, dim=0, expo=false):\n",
    "    L = toList(S, dim)  \n",
    "    dim = len(L)\n",
    "    M = matrix(QQ, dim, dim)\n",
    "    for n in (0..dim-1): M[n,0] = L[n]\n",
    "    for k in (1..dim-1):\n",
    "        for m in (k..dim-1):\n",
    "            M[m, k] = sum(M[j, k-1]*L[m-j] for j in (k-1..m-1))\n",
    "    if expo: return ExponentialWeights(M)\n",
    "    return M\n",
    "\n",
    "# A.k.a. Riordan array. \n",
    "# However we do not associate any assumptions with a and b.\n",
    "def RiordanProduct(a, b, dim, expo=false):\n",
    "    A = toList(a, dim) \n",
    "    B = A if b == None else toList(b, dim)  \n",
    "    M = matrix(QQ, dim, dim)\n",
    "    for k in (0..dim-1): M[k, 0] = A[k]\n",
    "    for k in (1..dim-1):\n",
    "        for m in (k..dim-1):\n",
    "            M[m, k] = sum(M[j, k-1]*B[m-j] for j in (k-1..m-1))\n",
    "    if expo: return ExponentialWeights(M)\n",
    "    return M \n",
    "\n",
    "# This would be the top-down way to introduce the RiordanSquare.\n",
    "# def RiordanSquare(a, n, expo=false):\n",
    "#     return RiordanProduct(a, None, n, expo)"
   ]
  },
  {
   "cell_type": "markdown",
   "metadata": {},
   "source": [
    "### Tests"
   ]
  },
  {
   "cell_type": "code",
   "execution_count": null,
   "metadata": {},
   "outputs": [],
   "source": [
    "RiordanProduct(CentralTrinomial, Motzkin - 1, 8) "
   ]
  },
  {
   "cell_type": "code",
   "execution_count": null,
   "metadata": {},
   "outputs": [],
   "source": [
    "RiordanProduct(CentralTrinomial, CentralTrinomial, 8)"
   ]
  },
  {
   "cell_type": "code",
   "execution_count": null,
   "metadata": {},
   "outputs": [],
   "source": [
    "RiordanProduct(CentralTrinomial, Invert(CentralTrinomial, 8), 8)"
   ]
  },
  {
   "cell_type": "code",
   "execution_count": null,
   "metadata": {},
   "outputs": [],
   "source": [
    "RiordanProduct(InverseInvert(CentralTrinomial, 8), CentralTrinomial,  8)"
   ]
  },
  {
   "cell_type": "code",
   "execution_count": null,
   "metadata": {},
   "outputs": [],
   "source": [
    "RiordanSquare(CentralTrinomial, 8)"
   ]
  },
  {
   "cell_type": "code",
   "execution_count": null,
   "metadata": {},
   "outputs": [],
   "source": [
    "print(\"Jacobsthal triangle:\")\n",
    "R = RiordanSquare(Jacobsthal, 8)\n",
    "print R\n",
    "I = R.inverse()\n",
    "print(\"\\nwith inverse matrix:\")\n",
    "print I "
   ]
  },
  {
   "cell_type": "code",
   "execution_count": null,
   "metadata": {},
   "outputs": [],
   "source": [
    "RiordanSquare((1 + x - x^2)/(1 - 2*x^2 + x^4), 7)"
   ]
  },
  {
   "cell_type": "code",
   "execution_count": null,
   "metadata": {},
   "outputs": [],
   "source": [
    "RiordanSquare(exp(x), 9, true)"
   ]
  },
  {
   "cell_type": "code",
   "execution_count": null,
   "metadata": {},
   "outputs": [],
   "source": [
    "RiordanSquare(sec(x)+tan(x), 8, true)"
   ]
  },
  {
   "cell_type": "code",
   "execution_count": null,
   "metadata": {},
   "outputs": [],
   "source": [
    "RiordanSquare(exp(x)*x, 8, true)"
   ]
  },
  {
   "cell_type": "code",
   "execution_count": null,
   "metadata": {},
   "outputs": [],
   "source": [
    "RiordanSquare(-ln(1-x), 8, exp) "
   ]
  },
  {
   "cell_type": "code",
   "execution_count": null,
   "metadata": {},
   "outputs": [],
   "source": [
    "RiordanSquare([1, 1, 1, 1, 1, 1, 1, 1], expo=true)"
   ]
  },
  {
   "cell_type": "code",
   "execution_count": null,
   "metadata": {},
   "outputs": [],
   "source": [
    "RiordanSquare([1, 2, 3, 4, 5, 6, 7, 8])"
   ]
  },
  {
   "cell_type": "code",
   "execution_count": null,
   "metadata": {},
   "outputs": [],
   "source": [
    "RiordanSquare(lambda n: n + 1, 8)"
   ]
  },
  {
   "cell_type": "code",
   "execution_count": null,
   "metadata": {},
   "outputs": [],
   "source": [
    "RiordanSquare(1/(1-x)^2, 8)"
   ]
  },
  {
   "cell_type": "code",
   "execution_count": null,
   "metadata": {},
   "outputs": [],
   "source": [
    "RiordanSquare(Motzkin, 8)"
   ]
  },
  {
   "cell_type": "code",
   "execution_count": null,
   "metadata": {},
   "outputs": [],
   "source": [
    "RiordanSquare(LargeSchroeder, 7)"
   ]
  },
  {
   "cell_type": "code",
   "execution_count": null,
   "metadata": {},
   "outputs": [],
   "source": [
    "RiordanSquare(LittleSchroeder, 7)"
   ]
  },
  {
   "cell_type": "code",
   "execution_count": null,
   "metadata": {},
   "outputs": [],
   "source": [
    "RiordanSquare(ShiftReversion(Motzkin, 9))                            "
   ]
  },
  {
   "cell_type": "code",
   "execution_count": null,
   "metadata": {},
   "outputs": [],
   "source": [
    "def RiordanTest(g):\n",
    "    ord = 10\n",
    "    print(g.name + \"ogf\", g.ogf)\n",
    "    print(\"\\n\" + g.name + \"Matrix         \"); print(RiordanSquare(g.ogf, ord))\n",
    "    print(\"\\n\" + g.name + \"Inverse matrix \"); print(RiordanSquare(g.ogf, ord).inverse())\n",
    "    print(\"\\n\" + g.name + \"Invert         \"); print(RiordanSquare(Invert(g.ogf, ord)))         \n",
    "    print(\"\\n\" + g.name + \"InverseInvert  \"); print(RiordanSquare(InverseInvert(g.ogf, ord)))          \n",
    "    print(\"\\n\" + g.name + \"Reciproc       \"); print(RiordanSquare(Reciproc(g.ogf, ord)))   \n",
    "    if List(g.ogf, 4)[0] == 0: \n",
    "        print(\"\\n\" + g.name + \"Reversion      \"); print(RiordanSquare(Reversion(g.ogf, ord)))                      \n",
    "    else:\n",
    "        print(\"\\n\" + g.name + \"ShiftReversion \"); print(RiordanSquare(ShiftReversion(g.ogf, ord)))                            \n",
    "\n",
    "RiordanTest(COL[2])"
   ]
  },
  {
   "cell_type": "code",
   "execution_count": null,
   "metadata": {
    "scrolled": false
   },
   "outputs": [],
   "source": [
    "for g in COL:\n",
    "    RiordanTest(g)\n",
    "    print(\"\\n===========================================\\n\")"
   ]
  },
  {
   "cell_type": "markdown",
   "metadata": {},
   "source": [
    "### Library Functions"
   ]
  },
  {
   "cell_type": "code",
   "execution_count": null,
   "metadata": {},
   "outputs": [],
   "source": [
    "# Jacobi continued fraction\n",
    "def JacobiCF(a, b, dim, p=2):\n",
    "    A = toList(a, dim) \n",
    "    B = A if b == None else toList(b, dim)  \n",
    "    m = 1\n",
    "    for k in range(dim-1, -1, -1):\n",
    "        m = 1 - B[k]*x - A[k]*x^p/m\n",
    "    return 1/m\n",
    "\n",
    "# Jacobi generating function\n",
    "def JacobiGF(a, b, dim, p=2):\n",
    "    cf = JacobiCF(a, b, dim, p)\n",
    "    return cf.series(x, dim).list()\n",
    "\n",
    "def JacobiSquare(a, dim, p=2):\n",
    "    cf = JacobiCF(a, None, dim, p)\n",
    "    return cf.series(x, dim).list()\n",
    "\n",
    "# Stieltjes generating function\n",
    "def StieltjesGF(a, dim, p=2):\n",
    "    return JacobiGF(a, lambda n: 0, dim, p)"
   ]
  },
  {
   "cell_type": "code",
   "execution_count": null,
   "metadata": {},
   "outputs": [],
   "source": [
    "def Bell(dim):\n",
    "    return JacobiSquare(lambda n: n+1, dim)\n",
    "\n",
    "def Involutions(dim):\n",
    "    return JacobiGF(lambda n: n+1, lambda n: 1, dim)\n",
    "\n",
    "def Euler(dim):\n",
    "    return StieltjesGF(lambda n: (n+1)^2, dim, p=1)\n",
    "\n",
    "def OdddoubleFactorial(dim):\n",
    "    return StieltjesGF(lambda n: n+1, dim, p=1)"
   ]
  },
  {
   "cell_type": "markdown",
   "metadata": {},
   "source": [
    "### EXAMPLES"
   ]
  },
  {
   "cell_type": "code",
   "execution_count": null,
   "metadata": {},
   "outputs": [],
   "source": [
    "def Trow(n): return StieltjesGF(lambda k: n+k, 10, p=1)\n",
    "for n in (0..4): print(Trow(n))"
   ]
  },
  {
   "cell_type": "code",
   "execution_count": null,
   "metadata": {},
   "outputs": [],
   "source": [
    "def Trow(n): return JacobiSquare(lambda k: n+k, 10)\n",
    "for n in (0..4): print(Trow(n))"
   ]
  },
  {
   "cell_type": "code",
   "execution_count": null,
   "metadata": {},
   "outputs": [],
   "source": [
    "RiordanSquare(OdddoubleFactorial(7), 7)"
   ]
  },
  {
   "cell_type": "code",
   "execution_count": null,
   "metadata": {},
   "outputs": [],
   "source": [
    "RiordanSquare(Euler(7), 7)"
   ]
  },
  {
   "cell_type": "code",
   "execution_count": null,
   "metadata": {},
   "outputs": [],
   "source": [
    "Bell(8)"
   ]
  },
  {
   "cell_type": "code",
   "execution_count": null,
   "metadata": {},
   "outputs": [],
   "source": [
    "RiordanSquare(Bell(8), 8)"
   ]
  },
  {
   "cell_type": "code",
   "execution_count": null,
   "metadata": {},
   "outputs": [],
   "source": [
    "RiordanSquare(JacobiSquare(lambda n: n+1, 8))"
   ]
  },
  {
   "cell_type": "code",
   "execution_count": null,
   "metadata": {},
   "outputs": [],
   "source": [
    "RiordanSquare(JacobiSquare(lambda n: (n+1)^2, 8))"
   ]
  },
  {
   "cell_type": "markdown",
   "metadata": {},
   "source": [
    "### Library Functions"
   ]
  },
  {
   "cell_type": "code",
   "execution_count": null,
   "metadata": {},
   "outputs": [],
   "source": [
    "def DelehamDelta(R, S, dim=0):\n",
    "    x, y = var('x, y')\n",
    "    r = toList(R, dim) \n",
    "    s = toList(S, dim) \n",
    "    dim = min(len(r), len(s))\n",
    "    g = SR(0)\n",
    "    for n in range(dim-1, -1, -1):\n",
    "        g = (r[n]*y + s[n]*x*y)/(SR(1) - g)\n",
    "    ser = (1/(1 - g)).series(y, dim)\n",
    "    return [expand(p).list() for p in ser.list()]\n",
    "\n",
    "def DelehamTransform(S, dim):\n",
    "        x, y = var('x, y')\n",
    "        s = toList(S, dim) \n",
    "        g = SR(0)\n",
    "        for n in range(dim-1, 0, -1):\n",
    "            g = s[n]*y/(SR(1) - g)\n",
    "        g = ((s[0] + x)*y)/(SR(1) - g)\n",
    "        ser = (1/(1 - g)).series(y, dim)\n",
    "        return [expand(p).list()[0] for p in ser.list()]"
   ]
  },
  {
   "cell_type": "markdown",
   "metadata": {},
   "source": [
    "### Examples and Tests"
   ]
  },
  {
   "cell_type": "code",
   "execution_count": null,
   "metadata": {},
   "outputs": [],
   "source": [
    "DelehamDelta((1 + x - x^2)/(1 - 2*x^2 + x^4), 1, 8)"
   ]
  },
  {
   "cell_type": "code",
   "execution_count": null,
   "metadata": {},
   "outputs": [],
   "source": [
    "DelehamDelta([1, 1, 1, 2, 1, 3, 1, 4], [1, 0, 0, 0, 0, 0, 0, 0])"
   ]
  },
  {
   "cell_type": "code",
   "execution_count": null,
   "metadata": {},
   "outputs": [],
   "source": [
    "def R(n): return 1 if 2.divides(n) else (n+1)//2\n",
    "def S(n): return 0^n\n",
    "DelehamDelta(R, S, 8)"
   ]
  },
  {
   "cell_type": "code",
   "execution_count": null,
   "metadata": {},
   "outputs": [],
   "source": [
    "def R(n): return 1 if 2.divides(n) else (n+1)//2\n",
    "DelehamTransform(R, 12)"
   ]
  },
  {
   "cell_type": "code",
   "execution_count": null,
   "metadata": {},
   "outputs": [],
   "source": [
    "DelehamDelta(1/(1-2*x), 1/(1-x^2), 7)"
   ]
  },
  {
   "cell_type": "code",
   "execution_count": null,
   "metadata": {},
   "outputs": [],
   "source": [
    "DelehamDelta(lambda n: 2^n, lambda n: 1 - n%2, 7)"
   ]
  },
  {
   "cell_type": "code",
   "execution_count": null,
   "metadata": {},
   "outputs": [],
   "source": [
    "DelehamDelta([1, 2, 4, 8, 16, 32, 64], [1, 0, 1, 0, 1, 0, 1])"
   ]
  },
  {
   "cell_type": "markdown",
   "metadata": {},
   "source": [
    "### Library Function"
   ]
  },
  {
   "cell_type": "code",
   "execution_count": null,
   "metadata": {},
   "outputs": [],
   "source": [
    "def ProductionMatrix(g, dim, expo=false):\n",
    "    R = RiordanSquare(g, dim+1, expo)\n",
    "    I = R.inverse()\n",
    "    r = matrix([R.row(n)[0:dim] for n in (1..dim)])\n",
    "    i = matrix([I.row(n)[0:dim] for n in (0..dim-1)])\n",
    "    P = i * r\n",
    "    R = matrix.identity(dim)\n",
    "    for n in (0..dim-2): \n",
    "        for k in (0..n):\n",
    "            R[n+1, k] = P[n, k]\n",
    "    return R"
   ]
  },
  {
   "cell_type": "markdown",
   "metadata": {},
   "source": [
    "### Examples and Tests"
   ]
  },
  {
   "cell_type": "code",
   "execution_count": null,
   "metadata": {},
   "outputs": [],
   "source": [
    "g = (1-2*x)^(-1/2)\n",
    "ProductionMatrix(g, 8, expo=true)"
   ]
  },
  {
   "cell_type": "code",
   "execution_count": null,
   "metadata": {},
   "outputs": [],
   "source": [
    "f = (1-3*x)^(-1/3) # A322935\n",
    "ProductionMatrix(f, 8, expo=true)"
   ]
  },
  {
   "cell_type": "code",
   "execution_count": null,
   "metadata": {},
   "outputs": [],
   "source": [
    "f = (1-4*x)^(-1/4) \n",
    "ProductionMatrix(f, 8, expo=true)"
   ]
  },
  {
   "cell_type": "code",
   "execution_count": null,
   "metadata": {},
   "outputs": [],
   "source": [
    "g = sqrt(1-2*x-sqrt(1-4*x-32*x^2))/(x*sqrt(18))\n",
    "ProductionMatrix(g, 7, expo=true)"
   ]
  },
  {
   "cell_type": "code",
   "execution_count": null,
   "metadata": {},
   "outputs": [],
   "source": [
    "R = RiordanSquare((1 - 3*x)^(-1/3), 9, true).inverse()\n",
    "F = [[sum((-1)^(n-i)*c*x^i for (i, c) in enumerate(R.row(n)))/factorial(n)] \n",
    "      for n in (0..8)]\n",
    "P = plot(F, (x, -4, 1))\n",
    "P.show(xmin=-4, xmax=1, ymin=-4, ymax=26)"
   ]
  }
 ],
 "metadata": {
  "kernelspec": {
   "display_name": "SageMath 8.4",
   "language": "",
   "name": "sagemath"
  },
  "language_info": {
   "codemirror_mode": {
    "name": "ipython",
    "version": 2
   },
   "file_extension": ".py",
   "mimetype": "text/x-python",
   "name": "python",
   "nbconvert_exporter": "python",
   "pygments_lexer": "ipython2",
   "version": "2.7.15"
  }
 },
 "nbformat": 4,
 "nbformat_minor": 2
}
