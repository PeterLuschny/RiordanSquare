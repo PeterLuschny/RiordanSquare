{
 "cells": [
  {
   "cell_type": "markdown",
   "metadata": {},
   "source": [
    "## Riordan squares and Jacobi continued fractions\n",
    "\n",
    "Some background information can be found at \n",
    "Peter Luschny's [homepage](http://luschny.de/math/seq/RiordanSquare.html).\n",
    "\n",
    "In the OEIS see [A321620](https://oeis.org/A321620) and [A321960](https://oeis.org/A321960)."
   ]
  },
  {
   "cell_type": "markdown",
   "metadata": {},
   "source": [
    "### Library Functions \n",
    "(Helper functions, skip at first read)"
   ]
  },
  {
   "cell_type": "code",
   "execution_count": 1,
   "metadata": {},
   "outputs": [],
   "source": [
    "def TaylorList(f, n):\n",
    "    # Trap: list() need not have length equal to prec()!\n",
    "    t = f.taylor(x, 0, n+2).list()\n",
    "    return (t + [0]*(n - len(t)))[0:n]\n",
    "\n",
    "def toList(R, dim):  \n",
    "    if isinstance(R, Integer): R = SR(R)\n",
    "    if isinstance(R, type(SR())):\n",
    "        if dim == 0: raise ValueError('dim must not be zero.') \n",
    "        return TaylorList(SR(R), dim)\n",
    "    if callable(R):\n",
    "        if dim == 0: raise ValueError('dim must not be zero.') \n",
    "        return [R(n) for n in (0..dim-1)]\n",
    "    return R\n",
    "    \n",
    "def ExponentialWeights(M):\n",
    "    N = M.nrows(); u = 1\n",
    "    for k in (1..N-1):\n",
    "        u *= k\n",
    "        for m in (0..k):\n",
    "            j = u if m == 0 else j/m\n",
    "            M[k, m] *= j\n",
    "    return M"
   ]
  },
  {
   "cell_type": "markdown",
   "metadata": {},
   "source": [
    "### Library Function"
   ]
  },
  {
   "cell_type": "code",
   "execution_count": 2,
   "metadata": {},
   "outputs": [],
   "source": [
    "def RiordanSquare(S, dim=0, expo=false):\n",
    "    L = toList(S, dim)  \n",
    "    dim = len(L)\n",
    "    M = matrix(QQ, dim, dim)\n",
    "    for n in (0..dim-1): M[n,0] = L[n]\n",
    "    for k in (1..dim-1):\n",
    "        for m in (k..dim-1):\n",
    "            M[m, k] = sum(M[j, k-1]*L[m-j] for j in (k-1..m-1))\n",
    "    if expo: return ExponentialWeights(M)\n",
    "    return M"
   ]
  },
  {
   "cell_type": "markdown",
   "metadata": {},
   "source": [
    "### Examples"
   ]
  },
  {
   "cell_type": "code",
   "execution_count": 3,
   "metadata": {},
   "outputs": [],
   "source": [
    "Catalan = (1 - sqrt(1 - 4*x))/(2*x)\n",
    "Riordan = 1 + 2*x/(1 + x + sqrt(1 - 2*x - 3*x^2))\n",
    "Motzkin = (1 - x - sqrt(1 - 2*x - 3*x^2))/(2*x^2)\n",
    "Fine = 1 + (1 - sqrt(1 - 4*x))/(3 - sqrt(1 - 4*x))\n",
    "LargeSchroeder =  (1 - x - sqrt(1 - 6*x + x^2))/(2*x)\n",
    "LittleSchroeder = (1 + x - sqrt(1 - 6*x + x^2))/(4*x)\n",
    "Lucas = 1 + x*(1 + 2*x)/(1 - x - x^2)\n",
    "OrbitalNumbers = (1 + x/(1 - 4*x^2))/sqrt(1 - 4*x^2)\n",
    "TernaryTrees = sin(arcsin(3*sqrt(x*3/4))/3)/sqrt(x*3/4)\n",
    "Bell = sum(x^k/prod(1 - j*x for j in (1..k)) for k in (0..30))\n",
    "PowersOf2 = 1/(1 - 2*x)\n",
    "All1Seq = 1/(1 - x)\n",
    "Fibonacci = 1/(1 - x - x^2)\n",
    "Tribonacci = 1/(1 - x - x^2 - x^3)"
   ]
  },
  {
   "cell_type": "code",
   "execution_count": 4,
   "metadata": {},
   "outputs": [
    {
     "data": {
      "text/plain": [
       "[ 1  0  0  0  0  0  0]\n",
       "[ 1  1  0  0  0  0  0]\n",
       "[ 1  2  1  0  0  0  0]\n",
       "[ 2  4  3  1  0  0  0]\n",
       "[ 1  6  8  4  1  0  0]\n",
       "[ 3  9 15 13  5  1  0]\n",
       "[ 1 13 28 30 19  6  1]"
      ]
     },
     "execution_count": 4,
     "metadata": {},
     "output_type": "execute_result"
    }
   ],
   "source": [
    "RiordanSquare((1 + x - x^2)/(1 - 2*x^2 + x^4), 7)"
   ]
  },
  {
   "cell_type": "code",
   "execution_count": 5,
   "metadata": {},
   "outputs": [
    {
     "data": {
      "text/plain": [
       "[   1    0    0    0    0    0    0    0    0]\n",
       "[   1    1    0    0    0    0    0    0    0]\n",
       "[   1    3    1    0    0    0    0    0    0]\n",
       "[   1    7    6    1    0    0    0    0    0]\n",
       "[   1   15   25   10    1    0    0    0    0]\n",
       "[   1   31   90   65   15    1    0    0    0]\n",
       "[   1   63  301  350  140   21    1    0    0]\n",
       "[   1  127  966 1701 1050  266   28    1    0]\n",
       "[   1  255 3025 7770 6951 2646  462   36    1]"
      ]
     },
     "execution_count": 5,
     "metadata": {},
     "output_type": "execute_result"
    }
   ],
   "source": [
    "RiordanSquare(exp(x), 9, true)"
   ]
  },
  {
   "cell_type": "code",
   "execution_count": 6,
   "metadata": {},
   "outputs": [
    {
     "data": {
      "text/plain": [
       "[   1    0    0    0    0    0    0    0]\n",
       "[   1    1    0    0    0    0    0    0]\n",
       "[   1    3    1    0    0    0    0    0]\n",
       "[   2    8    6    1    0    0    0    0]\n",
       "[   5   27   29   10    1    0    0    0]\n",
       "[  16  106  150   75   15    1    0    0]\n",
       "[  61  483  841  550  160   21    1    0]\n",
       "[ 272 2498 5166 4151 1575  301   28    1]"
      ]
     },
     "execution_count": 6,
     "metadata": {},
     "output_type": "execute_result"
    }
   ],
   "source": [
    "RiordanSquare(sec(x)+tan(x), 8, true)"
   ]
  },
  {
   "cell_type": "code",
   "execution_count": 7,
   "metadata": {},
   "outputs": [
    {
     "data": {
      "text/plain": [
       "[   0    0    0    0    0    0    0    0]\n",
       "[   1    0    0    0    0    0    0    0]\n",
       "[   2    2    0    0    0    0    0    0]\n",
       "[   3   12    3    0    0    0    0    0]\n",
       "[   4   48   36    4    0    0    0    0]\n",
       "[   5  160  270   80    5    0    0    0]\n",
       "[   6  480 1620  960  150    6    0    0]\n",
       "[   7 1344 8505 8960 2625  252    7    0]"
      ]
     },
     "execution_count": 7,
     "metadata": {},
     "output_type": "execute_result"
    }
   ],
   "source": [
    "RiordanSquare(exp(x)*x, 8, true)"
   ]
  },
  {
   "cell_type": "code",
   "execution_count": 8,
   "metadata": {},
   "outputs": [
    {
     "data": {
      "text/plain": [
       "[   0    0    0    0    0    0    0    0]\n",
       "[   1    0    0    0    0    0    0    0]\n",
       "[   1    2    0    0    0    0    0    0]\n",
       "[   2    6    3    0    0    0    0    0]\n",
       "[   6   22   18    4    0    0    0    0]\n",
       "[  24  100  105   40    5    0    0    0]\n",
       "[ 120  548  675  340   75    6    0    0]\n",
       "[ 720 3528 4872 2940  875  126    7    0]"
      ]
     },
     "execution_count": 8,
     "metadata": {},
     "output_type": "execute_result"
    }
   ],
   "source": [
    "RiordanSquare(-ln(1-x), 8, exp) "
   ]
  },
  {
   "cell_type": "code",
   "execution_count": 9,
   "metadata": {},
   "outputs": [
    {
     "data": {
      "text/plain": [
       "[    1     0     0     0     0     0     0     0]\n",
       "[    1     1     0     0     0     0     0     0]\n",
       "[    2     4     1     0     0     0     0     0]\n",
       "[    6    18     9     1     0     0     0     0]\n",
       "[   24    96    72    16     1     0     0     0]\n",
       "[  120   600   600   200    25     1     0     0]\n",
       "[  720  4320  5400  2400   450    36     1     0]\n",
       "[ 5040 35280 52920 29400  7350   882    49     1]"
      ]
     },
     "execution_count": 9,
     "metadata": {},
     "output_type": "execute_result"
    }
   ],
   "source": [
    "RiordanSquare([1, 1, 1, 1, 1, 1, 1, 1], expo=true)"
   ]
  },
  {
   "cell_type": "code",
   "execution_count": 10,
   "metadata": {},
   "outputs": [
    {
     "data": {
      "text/plain": [
       "[   1    0    0    0    0    0    0    0]\n",
       "[   2    2    0    0    0    0    0    0]\n",
       "[   3    7    4    0    0    0    0    0]\n",
       "[   4   16   20    8    0    0    0    0]\n",
       "[   5   30   61   52   16    0    0    0]\n",
       "[   6   50  146  198  128   32    0    0]\n",
       "[   7   77  301  575  584  304   64    0]\n",
       "[   8  112  560 1408 1992 1616  704  128]"
      ]
     },
     "execution_count": 10,
     "metadata": {},
     "output_type": "execute_result"
    }
   ],
   "source": [
    "RiordanSquare([1, 2, 3, 4, 5, 6, 7, 8])"
   ]
  },
  {
   "cell_type": "code",
   "execution_count": 11,
   "metadata": {},
   "outputs": [
    {
     "data": {
      "text/plain": [
       "[   1    0    0    0    0    0    0    0]\n",
       "[   2    2    0    0    0    0    0    0]\n",
       "[   3    7    4    0    0    0    0    0]\n",
       "[   4   16   20    8    0    0    0    0]\n",
       "[   5   30   61   52   16    0    0    0]\n",
       "[   6   50  146  198  128   32    0    0]\n",
       "[   7   77  301  575  584  304   64    0]\n",
       "[   8  112  560 1408 1992 1616  704  128]"
      ]
     },
     "execution_count": 11,
     "metadata": {},
     "output_type": "execute_result"
    }
   ],
   "source": [
    "RiordanSquare(lambda n: n + 1, 8)"
   ]
  },
  {
   "cell_type": "code",
   "execution_count": 12,
   "metadata": {},
   "outputs": [
    {
     "data": {
      "text/plain": [
       "[   1    0    0    0    0    0    0    0]\n",
       "[   2    2    0    0    0    0    0    0]\n",
       "[   3    7    4    0    0    0    0    0]\n",
       "[   4   16   20    8    0    0    0    0]\n",
       "[   5   30   61   52   16    0    0    0]\n",
       "[   6   50  146  198  128   32    0    0]\n",
       "[   7   77  301  575  584  304   64    0]\n",
       "[   8  112  560 1408 1992 1616  704  128]"
      ]
     },
     "execution_count": 12,
     "metadata": {},
     "output_type": "execute_result"
    }
   ],
   "source": [
    "RiordanSquare(1/(1-x)^2, 8)"
   ]
  },
  {
   "cell_type": "code",
   "execution_count": 13,
   "metadata": {},
   "outputs": [
    {
     "data": {
      "text/plain": [
       "[   1    0    0    0    0    0    0    0]\n",
       "[   1    1    0    0    0    0    0    0]\n",
       "[   2    3    1    0    0    0    0    0]\n",
       "[   5    9    5    1    0    0    0    0]\n",
       "[  15   29   20    7    1    0    0    0]\n",
       "[  52  102   77   35    9    1    0    0]\n",
       "[ 203  392  302  157   54   11    1    0]\n",
       "[ 877 1641 1235  683  277   77   13    1]"
      ]
     },
     "execution_count": 13,
     "metadata": {},
     "output_type": "execute_result"
    }
   ],
   "source": [
    "RiordanSquare(Bell, 8)"
   ]
  },
  {
   "cell_type": "code",
   "execution_count": 14,
   "metadata": {},
   "outputs": [
    {
     "data": {
      "text/plain": [
       "[  1   0   0   0   0   0   0   0]\n",
       "[  1   1   0   0   0   0   0   0]\n",
       "[  2   3   1   0   0   0   0   0]\n",
       "[  4   8   5   1   0   0   0   0]\n",
       "[  9  21  18   7   1   0   0   0]\n",
       "[ 21  55  58  32   9   1   0   0]\n",
       "[ 51 145 177 123  50  11   1   0]\n",
       "[127 385 525 431 224  72  13   1]"
      ]
     },
     "execution_count": 14,
     "metadata": {},
     "output_type": "execute_result"
    }
   ],
   "source": [
    "RiordanSquare(Motzkin, 8)"
   ]
  },
  {
   "cell_type": "code",
   "execution_count": 15,
   "metadata": {},
   "outputs": [
    {
     "data": {
      "text/plain": [
       "[   1    0    0    0    0    0    0]\n",
       "[   2    2    0    0    0    0    0]\n",
       "[   6   10    4    0    0    0    0]\n",
       "[  22   46   32    8    0    0    0]\n",
       "[  90  214  196   88   16    0    0]\n",
       "[ 394 1018 1104  672  224   32    0]\n",
       "[1806 4946 6020 4448 2048  544   64]"
      ]
     },
     "execution_count": 15,
     "metadata": {},
     "output_type": "execute_result"
    }
   ],
   "source": [
    "RiordanSquare(LargeSchroeder, 7)"
   ]
  },
  {
   "cell_type": "code",
   "execution_count": 16,
   "metadata": {},
   "outputs": [
    {
     "data": {
      "text/plain": [
       "[   1    0    0    0    0    0    0]\n",
       "[   1    1    0    0    0    0    0]\n",
       "[   3    4    1    0    0    0    0]\n",
       "[  11   17    7    1    0    0    0]\n",
       "[  45   76   40   10    1    0    0]\n",
       "[ 197  353  216   72   13    1    0]\n",
       "[ 903 1688 1145  458  113   16    1]"
      ]
     },
     "execution_count": 16,
     "metadata": {},
     "output_type": "execute_result"
    }
   ],
   "source": [
    "RiordanSquare(LittleSchroeder, 7)"
   ]
  },
  {
   "cell_type": "markdown",
   "metadata": {},
   "source": [
    "### Library Function\n",
    "This would be the top-down way to introduce the RiordanSquare."
   ]
  },
  {
   "cell_type": "code",
   "execution_count": 17,
   "metadata": {},
   "outputs": [],
   "source": [
    "def RiordanProduct(a, b, dim, expo=false):\n",
    "    A = toList(a, dim) \n",
    "    B = A if b == None else toList(b, dim)  \n",
    "    M = matrix(QQ, dim, dim)\n",
    "    for k in (0..dim-1): M[k, 0] = A[k]\n",
    "    for k in (1..dim-1):\n",
    "        for m in (k..dim-1):\n",
    "            M[m, k] = sum(M[j, k-1]*B[m-j] for j in (k-1..m-1))\n",
    "    if expo: return ExponentialWeights(M)\n",
    "    return M \n",
    "\n",
    "# def RiordanSquare(a, n, expo=false):\n",
    "#     return RiordanProduct(a, None, n, expo)"
   ]
  },
  {
   "cell_type": "code",
   "execution_count": 18,
   "metadata": {},
   "outputs": [
    {
     "data": {
      "text/plain": [
       "[   1    0    0    0    0    0    0]\n",
       "[   1    1    0    0    0    0    0]\n",
       "[   3    3    1    0    0    0    0]\n",
       "[  13   14    6    1    0    0    0]\n",
       "[  73   84   41   10    1    0    0]\n",
       "[ 501  609  325   95   15    1    0]\n",
       "[4051 5155 2944  965  190   21    1]"
      ]
     },
     "execution_count": 18,
     "metadata": {},
     "output_type": "execute_result"
    }
   ],
   "source": [
    "RiordanProduct(exp(x/(1-x)), ln(1/(1-x)), 7, expo=true)"
   ]
  },
  {
   "cell_type": "markdown",
   "metadata": {},
   "source": [
    "### Library Functions"
   ]
  },
  {
   "cell_type": "code",
   "execution_count": 19,
   "metadata": {},
   "outputs": [],
   "source": [
    "# Jacobi continued fraction\n",
    "def JacobiCF(a, b, dim, p=2):\n",
    "    m = 1\n",
    "    for k in range(dim-1, -1, -1):\n",
    "        m = 1 - b(k)*x - a(k)*x^p/m\n",
    "    return 1/m"
   ]
  },
  {
   "cell_type": "code",
   "execution_count": 20,
   "metadata": {},
   "outputs": [],
   "source": [
    "# Jacobi generating function\n",
    "def JacobiGF(a, b, dim, p=2):\n",
    "    cf = JacobiCF(a, b, dim, p)\n",
    "    return cf.series(x, dim).list()\n",
    "\n",
    "def JacobiSquare(a, dim, p=2):\n",
    "    cf = JacobiCF(a, a, dim, p)\n",
    "    return cf.series(x, dim).list()"
   ]
  },
  {
   "cell_type": "code",
   "execution_count": 21,
   "metadata": {},
   "outputs": [],
   "source": [
    "# Stieltjes generating function\n",
    "def StieltjesGF(a, dim, p=2):\n",
    "    return JacobiGF(a, lambda n: 0, dim, p)"
   ]
  },
  {
   "cell_type": "markdown",
   "metadata": {},
   "source": [
    "### Examples"
   ]
  },
  {
   "cell_type": "code",
   "execution_count": 22,
   "metadata": {},
   "outputs": [
    {
     "name": "stdout",
     "output_type": "stream",
     "text": [
      "[1, 0, 0, 0, 0, 0, 0, 0, 0, 0]\n",
      "[1, 1, 3, 15, 105, 945, 10395, 135135, 2027025, 34459425]\n",
      "[1, 2, 10, 74, 706, 8162, 110410, 1708394, 29752066, 576037442]\n",
      "[1, 3, 21, 207, 2529, 36243, 591381, 10786527, 217179009, 4782674403]\n",
      "[1, 4, 36, 444, 6636, 114084, 2194596, 46460124, 1070653356, 26650132164]\n"
     ]
    }
   ],
   "source": [
    "def Trow(n): return StieltjesGF(lambda k: n+k, 10, p=1)\n",
    "for n in (0..4): print(Trow(n))"
   ]
  },
  {
   "cell_type": "code",
   "execution_count": 23,
   "metadata": {},
   "outputs": [
    {
     "name": "stdout",
     "output_type": "stream",
     "text": [
      "[1, 0, 0, 0, 0, 0, 0, 0, 0, 0]\n",
      "[1, 1, 2, 5, 15, 52, 203, 877, 4140, 21147]\n",
      "[1, 2, 6, 22, 92, 426, 2146, 11624, 67146, 411142]\n",
      "[1, 3, 12, 57, 303, 1752, 10845, 71139, 491064, 3549333]\n",
      "[1, 4, 20, 116, 744, 5140, 37676, 290224, 2334300, 19513476]\n"
     ]
    }
   ],
   "source": [
    "def Trow(n): return JacobiSquare(lambda k: n+k, 10)\n",
    "for n in (0..4): print(Trow(n))"
   ]
  },
  {
   "cell_type": "code",
   "execution_count": 24,
   "metadata": {},
   "outputs": [],
   "source": [
    "def involutions(dim):\n",
    "    return JacobiGF(lambda n: n+1, lambda n: 1, dim)\n",
    "\n",
    "def euler(dim):\n",
    "    return StieltjesGF(lambda n: (n+1)^2, dim, p=1)\n",
    "\n",
    "def odddoublefactorial(dim):\n",
    "    return StieltjesGF(lambda n: n+1, dim, p=1)"
   ]
  },
  {
   "cell_type": "code",
   "execution_count": 25,
   "metadata": {},
   "outputs": [
    {
     "data": {
      "text/plain": [
       "[    1     0     0     0     0     0     0]\n",
       "[    1     1     0     0     0     0     0]\n",
       "[    3     4     1     0     0     0     0]\n",
       "[   15    21     7     1     0     0     0]\n",
       "[  105   144    48    10     1     0     0]\n",
       "[  945  1245   372    84    13     1     0]\n",
       "[10395 13140  3357   726   129    16     1]"
      ]
     },
     "execution_count": 25,
     "metadata": {},
     "output_type": "execute_result"
    }
   ],
   "source": [
    "RiordanSquare(odddoublefactorial(7), 7)"
   ]
  },
  {
   "cell_type": "code",
   "execution_count": 26,
   "metadata": {},
   "outputs": [
    {
     "data": {
      "text/plain": [
       "[      1       0       0       0       0       0       0]\n",
       "[      1       1       0       0       0       0       0]\n",
       "[      5       6       1       0       0       0       0]\n",
       "[     61      71      11       1       0       0       0]\n",
       "[   1385    1532     162      16       1       0       0]\n",
       "[  50521   53901    3638     278      21       1       0]\n",
       "[2702765 2821378  124723    6504     419      26       1]"
      ]
     },
     "execution_count": 26,
     "metadata": {},
     "output_type": "execute_result"
    }
   ],
   "source": [
    "RiordanSquare(euler(7), 7)"
   ]
  },
  {
   "cell_type": "code",
   "execution_count": 27,
   "metadata": {},
   "outputs": [
    {
     "data": {
      "text/plain": [
       "[   1    0    0    0    0    0    0    0]\n",
       "[   1    1    0    0    0    0    0    0]\n",
       "[   2    3    1    0    0    0    0    0]\n",
       "[   5    9    5    1    0    0    0    0]\n",
       "[  15   29   20    7    1    0    0    0]\n",
       "[  52  102   77   35    9    1    0    0]\n",
       "[ 203  392  302  157   54   11    1    0]\n",
       "[ 877 1641 1235  683  277   77   13    1]"
      ]
     },
     "execution_count": 27,
     "metadata": {},
     "output_type": "execute_result"
    }
   ],
   "source": [
    "RiordanSquare(JacobiSquare(lambda n: n+1, 8))"
   ]
  },
  {
   "cell_type": "code",
   "execution_count": 28,
   "metadata": {},
   "outputs": [
    {
     "data": {
      "text/plain": [
       "[    1     0     0     0     0     0     0     0]\n",
       "[    1     1     0     0     0     0     0     0]\n",
       "[    2     3     1     0     0     0     0     0]\n",
       "[    7    11     5     1     0     0     0     0]\n",
       "[   33    51    24     7     1     0     0     0]\n",
       "[  200   294   127    41     9     1     0     0]\n",
       "[ 1545  2126   772   243    62    11     1     0]\n",
       "[14669 19021  5579  1559   407    87    13     1]"
      ]
     },
     "execution_count": 28,
     "metadata": {},
     "output_type": "execute_result"
    }
   ],
   "source": [
    "RiordanSquare(JacobiSquare(lambda n: (n+1)^2, 8))"
   ]
  },
  {
   "cell_type": "code",
   "execution_count": 29,
   "metadata": {},
   "outputs": [
    {
     "data": {
      "image/png": "[encoded data removed]",
      "text/plain": [
       "Graphics object consisting of 9 graphics primitives"
      ]
     },
     "metadata": {},
     "output_type": "display_data"
    }
   ],
   "source": [
    "R = RiordanSquare((1 - 3*x)^(-1/3), 9, true).inverse()\n",
    "F = [[sum((-1)^(n-i)*c*x^i for (i, c) in enumerate(R.row(n)))/factorial(n)] \n",
    "      for n in (0..8)]\n",
    "P = plot(F, (x, -4, 1))\n",
    "P.show(xmin=-4, xmax=1, ymin=-4, ymax=26)"
   ]
  },
  {
   "cell_type": "markdown",
   "metadata": {},
   "source": [
    "### Library Function"
   ]
  },
  {
   "cell_type": "code",
   "execution_count": 30,
   "metadata": {},
   "outputs": [],
   "source": [
    "def DelehamDelta(R, S, dim=0):\n",
    "    x, y = var('x, y')\n",
    "    r = toList(R, dim) \n",
    "    s = toList(S, dim) \n",
    "    dim = min(len(r), len(s))\n",
    "    g = SR(0)\n",
    "    for n in range(dim-1, -1, -1):\n",
    "        g = (r[n]*y + s[n]*x*y)/(SR(1) - g)\n",
    "    ser = (1/(1 - g)).series(y, dim)\n",
    "    return [expand(p).list() for p in ser.list()]"
   ]
  },
  {
   "cell_type": "markdown",
   "metadata": {},
   "source": [
    "### Examples"
   ]
  },
  {
   "cell_type": "code",
   "execution_count": 31,
   "metadata": {},
   "outputs": [
    {
     "data": {
      "text/plain": [
       "[[1],\n",
       " [1, 1],\n",
       " [2, 3, 1],\n",
       " [5, 9, 5, 1],\n",
       " [15, 29, 20, 7, 1],\n",
       " [52, 102, 77, 35, 9, 1],\n",
       " [203, 392, 302, 157, 54, 11, 1],\n",
       " [877, 1641, 1235, 683, 277, 77, 13, 1]]"
      ]
     },
     "execution_count": 31,
     "metadata": {},
     "output_type": "execute_result"
    }
   ],
   "source": [
    "DelehamDelta((1 + x - x^2)/(1 - 2*x^2 + x^4), 1, 8)"
   ]
  },
  {
   "cell_type": "code",
   "execution_count": 32,
   "metadata": {},
   "outputs": [
    {
     "data": {
      "text/plain": [
       "[[1],\n",
       " [1, 1],\n",
       " [2, 3, 1],\n",
       " [5, 9, 5, 1],\n",
       " [15, 29, 20, 7, 1],\n",
       " [52, 102, 77, 35, 9, 1],\n",
       " [203, 392, 302, 157, 54, 11, 1],\n",
       " [877, 1641, 1235, 683, 277, 77, 13, 1]]"
      ]
     },
     "execution_count": 32,
     "metadata": {},
     "output_type": "execute_result"
    }
   ],
   "source": [
    "def R(n): return 1 if 2.divides(n) else (n+1)//2\n",
    "def S(n): return 0^n\n",
    "DelehamDelta(R, S, 8)"
   ]
  },
  {
   "cell_type": "code",
   "execution_count": 33,
   "metadata": {},
   "outputs": [
    {
     "data": {
      "text/plain": [
       "[[1],\n",
       " [1, 1],\n",
       " [2, 3, 1],\n",
       " [5, 9, 5, 1],\n",
       " [15, 29, 20, 7, 1],\n",
       " [52, 102, 77, 35, 9, 1],\n",
       " [203, 392, 302, 157, 54, 11, 1],\n",
       " [877, 1641, 1235, 683, 277, 77, 13, 1]]"
      ]
     },
     "execution_count": 33,
     "metadata": {},
     "output_type": "execute_result"
    }
   ],
   "source": [
    "DelehamDelta([1, 1, 1, 2, 1, 3, 1, 4], [1, 0, 0, 0, 0, 0, 0, 0])"
   ]
  },
  {
   "cell_type": "code",
   "execution_count": 34,
   "metadata": {},
   "outputs": [
    {
     "data": {
      "text/plain": [
       "[[1],\n",
       " [1, 1],\n",
       " [3, 4, 1],\n",
       " [17, 25, 9, 1],\n",
       " [171, 258, 102, 16, 1],\n",
       " [3113, 4635, 1788, 290, 25, 1],\n",
       " [106419, 154048, 54909, 7910, 665, 36, 1]]"
      ]
     },
     "execution_count": 34,
     "metadata": {},
     "output_type": "execute_result"
    }
   ],
   "source": [
    "DelehamDelta(1/(1-2*x), 1/(1-x^2), 7)"
   ]
  },
  {
   "cell_type": "code",
   "execution_count": 35,
   "metadata": {},
   "outputs": [
    {
     "data": {
      "text/plain": [
       "[[1],\n",
       " [1, 1],\n",
       " [3, 4, 1],\n",
       " [17, 25, 9, 1],\n",
       " [171, 258, 102, 16, 1],\n",
       " [3113, 4635, 1788, 290, 25, 1],\n",
       " [106419, 154048, 54909, 7910, 665, 36, 1]]"
      ]
     },
     "execution_count": 35,
     "metadata": {},
     "output_type": "execute_result"
    }
   ],
   "source": [
    "DelehamDelta(lambda n: 2^n, lambda n: 1 - n%2, 7)"
   ]
  },
  {
   "cell_type": "code",
   "execution_count": 36,
   "metadata": {},
   "outputs": [
    {
     "data": {
      "text/plain": [
       "[[1],\n",
       " [1, 1],\n",
       " [3, 4, 1],\n",
       " [17, 25, 9, 1],\n",
       " [171, 258, 102, 16, 1],\n",
       " [3113, 4635, 1788, 290, 25, 1],\n",
       " [106419, 154048, 54909, 7910, 665, 36, 1]]"
      ]
     },
     "execution_count": 36,
     "metadata": {},
     "output_type": "execute_result"
    }
   ],
   "source": [
    "DelehamDelta([1, 2, 4, 8, 16, 32, 64], [1, 0, 1, 0, 1, 0, 1])"
   ]
  },
  {
   "cell_type": "markdown",
   "metadata": {},
   "source": [
    "### Library Function"
   ]
  },
  {
   "cell_type": "code",
   "execution_count": 37,
   "metadata": {},
   "outputs": [],
   "source": [
    "def ProductionMatrix(g, dim, expo=false):\n",
    "    R = RiordanSquare(g, dim+1, expo)\n",
    "    I = R.inverse()\n",
    "    r = matrix([R.row(n)[0:dim] for n in (1..dim)])\n",
    "    i = matrix([I.row(n)[0:dim] for n in (0..dim-1)])\n",
    "    P = i * r\n",
    "    R = matrix.identity(dim)\n",
    "    for n in (0..dim-2): \n",
    "        for k in (0..n):\n",
    "            R[n+1, k] = P[n, k]\n",
    "    return R"
   ]
  },
  {
   "cell_type": "markdown",
   "metadata": {},
   "source": [
    "### Examples"
   ]
  },
  {
   "cell_type": "code",
   "execution_count": 38,
   "metadata": {},
   "outputs": [
    {
     "data": {
      "text/plain": [
       "[  1   0   0   0   0   0   0   0]\n",
       "[  1   1   0   0   0   0   0   0]\n",
       "[  2   4   1   0   0   0   0   0]\n",
       "[  2  10   7   1   0   0   0   0]\n",
       "[  0  12  24  10   1   0   0   0]\n",
       "[  0   0  36  44  13   1   0   0]\n",
       "[  0   0   0  80  70  16   1   0]\n",
       "[  0   0   0   0 150 102  19   1]"
      ]
     },
     "execution_count": 38,
     "metadata": {},
     "output_type": "execute_result"
    }
   ],
   "source": [
    "g = (1-2*x)^(-1/2)\n",
    "ProductionMatrix(g, 8, expo=true)"
   ]
  },
  {
   "cell_type": "code",
   "execution_count": 39,
   "metadata": {},
   "outputs": [
    {
     "name": "stdout",
     "output_type": "stream",
     "text": [
      "[1]\n",
      "[1, 1]\n",
      "[2, 5, 1]\n",
      "[6, 27, 12, 1]\n",
      "[24, 168, 123, 22, 1]\n",
      "[120, 1200, 1275, 365, 35, 1]\n",
      "[720, 9720, 13950, 5655, 855, 51, 1]\n",
      "[5040, 88200, 163170, 87465, 18480, 1722, 70, 1]\n",
      "[40320, 887040, 2046240, 1387680, 383145, 49476, 3122, 92, 1]\n"
     ]
    }
   ],
   "source": [
    "R = RiordanSquare(g, 9, true).inverse()\n",
    "for n in (0..8): print([(-1)^(n-k)*c \n",
    "    for (k, c) in enumerate(R.row(n)[:n+1])])"
   ]
  },
  {
   "cell_type": "code",
   "execution_count": 40,
   "metadata": {},
   "outputs": [
    {
     "data": {
      "text/plain": [
       "[  1   0   0   0   0   0   0   0]\n",
       "[  1   1   0   0   0   0   0   0]\n",
       "[  3   5   1   0   0   0   0   0]\n",
       "[  6  18   9   1   0   0   0   0]\n",
       "[  6  42  45  13   1   0   0   0]\n",
       "[  0  48 132  84  17   1   0   0]\n",
       "[  0   0 180 300 135  21   1   0]\n",
       "[  0   0   0 480 570 198  25   1]"
      ]
     },
     "execution_count": 40,
     "metadata": {},
     "output_type": "execute_result"
    }
   ],
   "source": [
    "f = (1 - 3*x)^(-1/3) \n",
    "ProductionMatrix(f, 8, expo=true)"
   ]
  },
  {
   "cell_type": "code",
   "execution_count": 41,
   "metadata": {},
   "outputs": [
    {
     "name": "stdout",
     "output_type": "stream",
     "text": [
      "[1]\n",
      "[1, 1]\n",
      "[2, 6, 1]\n",
      "[6, 38, 15, 1]\n",
      "[24, 272, 188, 28, 1]\n",
      "[120, 2200, 2340, 580, 45, 1]\n",
      "[720, 19920, 30280, 11040, 1390, 66, 1]\n",
      "[5040, 199920, 413560, 206920, 37450, 2842, 91, 1]\n",
      "[40320, 2204160, 5989760, 3931200, 955920, 102816, 5208, 120, 1]\n"
     ]
    }
   ],
   "source": [
    "R = RiordanSquare((1 - 3*x)^(-1/3), 9, true).inverse()\n",
    "for n in (0..8): print([(-1)^(n-k)*c \n",
    "    for (k, c) in enumerate(R.row(n)[:n+1])])"
   ]
  }
 ],
 "metadata": {
  "kernelspec": {
   "display_name": "SageMath 8.4",
   "language": "",
   "name": "sagemath"
  },
  "language_info": {
   "codemirror_mode": {
    "name": "ipython",
    "version": 2
   },
   "file_extension": ".py",
   "mimetype": "text/x-python",
   "name": "python",
   "nbconvert_exporter": "python",
   "pygments_lexer": "ipython2",
   "version": "2.7.15"
  }
 },
 "nbformat": 4,
 "nbformat_minor": 2
}
